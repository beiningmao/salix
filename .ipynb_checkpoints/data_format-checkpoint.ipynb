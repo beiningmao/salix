{
 "cells": [
  {
   "cell_type": "code",
   "execution_count": null,
   "metadata": {},
   "outputs": [],
   "source": [
    "import pandas as pd\n",
    "import re\n",
    "\n",
    "FILE = 'salix008_tab.txt'\n",
    "\n",
    "with open(FILE,'r') as f:\n",
    "    out = f.read()\n",
    "    out = re.sub(\"(  +)\", \",\", out)\n",
    "    out = re.sub(\"\\*\\*\\*\\*\\*\\*\\*\", \"\", out)\n",
    "    with open(f\"{FILE}_processed\",'w') as o:\n",
    "        o.write(out)\n",
    "\n",
    "salix_df = pd.read_csv(f\"{FILE}_processed\")\n",
    "wheatfen_df = pd.read_excel(\"/home/markhaoxiang/Projects/salix/Wheatfen_treecores.xlsx\")\n",
    "\n",
    "wheatfen_df_diameter = wheatfen_df[['ID', 'Diameter/cm']].dropna()\n",
    "wheatfen_df_diameter['ID'] = wheatfen_df_diameter['ID'].apply(lambda x : x.replace(\"?\",\"\"))"
   ]
  },
  {
   "cell_type": "code",
   "execution_count": null,
   "metadata": {},
   "outputs": [],
   "source": [
    "salix_df"
   ]
  },
  {
   "cell_type": "code",
   "execution_count": null,
   "metadata": {},
   "outputs": [],
   "source": [
    "salix_diameter_df = salix_df.get([\"year\"])\n",
    "for wfp in salix_df.columns[0:]:\n",
    "    d = wheatfen_df_diameter[(wheatfen_df_diameter['ID']==wfp[:-1])]['Diameter/cm'].values\n",
    "    # Data not available\n",
    "    if len(d) != 1:\n",
    "        continue\n",
    "    d = d[0]\n",
    "    results = [d]\n",
    "    for year in range(2022,1986,-1):\n",
    "        x = salix_df[(salix_df['year']==year)][wfp].values[0]\n",
    "        d = d - x*2/10\n",
    "        results.append(round(d,5))\n",
    "    results.reverse()\n",
    "    salix_diameter_df[f\"{wfp}_diameter\"] = pd.Series(results)\n",
    "     "
   ]
  },
  {
   "cell_type": "code",
   "execution_count": null,
   "metadata": {},
   "outputs": [],
   "source": [
    "salix_diameter_df    "
   ]
  },
  {
   "cell_type": "code",
   "execution_count": null,
   "metadata": {},
   "outputs": [],
   "source": [
    "# define parameters for different species\n",
    "biomass_params = {\"Alnus\": (0.0859, 2.3537), \"Acer\": (-2.7606, 2.5189),\"Quercus\": (-2.3223,2.4029)}\n",
    "\n",
    "\n",
    "# for salix biomass calculation: \n",
    "# a1=2.4721\n",
    "# b1=2.4987\n",
    "# a2=4.5086\n",
    "# b2=1.9234\n",
    "# b3=0.2613\n",
    "#branches_biomass = a1 * dbh ** b1\n",
    "# stem_biomass = a2 * (dbh ** b2) * (dbh**b3)\n",
    "\n",
    "salix_basal_area_df = salix_df.get([\"year\"])\n",
    "# calculate basal area, biomass and carbon\n",
    "for ID_diameter in salix_df.columns[0:]:\n",
    "    basal_area=[]\n",
    "    biomass=[]\n",
    "    carbon=[]\n",
    "    for year in range(1986,2023,1):\n",
    "        dbh = salix_df[(salix_df['year']==year)][ID_diameter].values[0]\n",
    "        ba = (np.pi / 4) * dbh ** 2\n",
    "        basal_area.append(ba)\n",
    "#         a, b = params[Alnus]\n",
    "        a = 0.0859\n",
    "        b = 2.3537\n",
    "        bio = a * dbh ** b\n",
    "        car = bio*0.47\n",
    "        biomass.append(bio)\n",
    "        carbon.append(car)\n",
    "    salix_df[f\"{ID_diameter}_basal_area\"] = pd.Series(basal_area)\n",
    "    salix_df[f\"{ID_diameter}_biomass\"] = pd.Series(biomass)\n",
    "    salix_df[f\"{ID_diameter}_carbon\"] = pd.Series(carbon)\n",
    "\n",
    "salix_df\n",
    "\n",
    "# # calculate increment\n",
    "bai=[]\n",
    "bioi=[]\n",
    "cari=[]"
   ]
  }
 ],
 "metadata": {
  "kernelspec": {
   "display_name": "Python 3 (ipykernel)",
   "language": "python",
   "name": "python3"
  },
  "language_info": {
   "codemirror_mode": {
    "name": "ipython",
    "version": 3
   },
   "file_extension": ".py",
   "mimetype": "text/x-python",
   "name": "python",
   "nbconvert_exporter": "python",
   "pygments_lexer": "ipython3",
   "version": "3.9.12"
  }
 },
 "nbformat": 4,
 "nbformat_minor": 2
}
