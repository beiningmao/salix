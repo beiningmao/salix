{
 "cells": [
  {
   "cell_type": "code",
   "execution_count": null,
   "metadata": {},
   "outputs": [],
   "source": [
    "import pandas as pd\n",
    "import numpy as np\n",
    "import re\n",
    "\n",
    "FILE1 = 'salix008_tab.txt'\n",
    "FILE2 = \"Wheatfen_treecores.xlsx\"\n",
    "TREE = \"Alnus\"\n",
    "\n",
    "with open(FILE1,'r') as f:\n",
    "    out = f.read()\n",
    "    out = re.sub(\"(  +)\", \",\", out)\n",
    "    out = re.sub(\"\\*\\*\\*\\*\\*\\*\\*\", \"\", out)\n",
    "    with open(f\"{FILE}_processed\",'w') as o:\n",
    "        o.write(out)\n",
    "\n",
    "salix_df = pd.read_csv(f\"{FILE1}_processed\")\n",
    "wheatfen_df = pd.read_excel(FILE2)\n",
    "\n",
    "wheatfen_df_diameter = wheatfen_df[['ID', 'Diameter/cm']].dropna()\n",
    "wheatfen_df_diameter['ID'] = wheatfen_df_diameter['ID'].apply(lambda x : x.replace(\"?\",\"\"))\n",
    "\n",
    "salix_df = salix_df.set_index(['year']).unstack().reset_index(name='ring_width')\n",
    "salix_df = salix_df.rename(columns={'level_0':'ID'}).dropna().sort_values('year')\n",
    "\n",
    "salix_df['ring_width_adjusted'] = salix_df['ring_width'] * 2 / 10\n",
    "salix_df['ring_width_adjusted_cumulative'] = salix_df.iloc[::-1].groupby('ID')['ring_width_adjusted'].cumsum()[::-1]\n",
    "salix_df['ring_width_adjusted_cumulative'] = salix_df.groupby('ID')['ring_width_adjusted_cumulative'].shift(-1)\n",
    "\n",
    "def calc_diameter(x):\n",
    "    d = wheatfen_df_diameter[(wheatfen_df_diameter['ID']==x['ID'][:-1])]['Diameter/cm'].values\n",
    "    if len(d) != 1:\n",
    "        return None\n",
    "    d = d[0]\n",
    "    if x['year'] != 2022:\n",
    "        return d-x['ring_width_adjusted_cumulative']\n",
    "    else:\n",
    "        return d\n",
    "\n",
    "salix_df['diameter']=salix_df.apply(calc_diameter,axis=1)\n",
    "salix_df = salix_df.drop(['ring_width_adjusted', 'ring_width_adjusted_cumulative'],axis=1)\n",
    "\n",
    "biomass_params = {\"Alnus\": (0.0859, 2.3537), \"Acer\": (-2.7606, 2.5189),\"Quercus\": (-2.3223,2.4029)}\n",
    "\n",
    "salix_df['basal_area'] = salix_df.apply(lambda x : (np.pi / 4) * x['diameter'] ** 2, axis=1)\n",
    "salix_df['biomass'] = salix_df.apply(lambda x : np.real(biomass_params[TREE][0] * x['diameter'] ** biomass_params[TREE][1]), axis=1)\n",
    "salix_df['carbon'] = salix_df['biomass'] * 0.47\n",
    "salix_df['delta_basal_area'] = salix_df.groupby(\"ID\")['basal_area'].diff()\n",
    "salix_df['delta_biomass'] = salix_df.groupby(\"ID\")['biomass'].diff()\n",
    "salix_df['delta_carbon'] = salix_df.groupby(\"ID\")['carbon'].diff()\n",
    "\n",
    "salix_df = salix_df.dropna()\n",
    "salix_df"
   ]
  }
 ],
 "metadata": {
  "kernelspec": {
   "display_name": "Python 3 (ipykernel)",
   "language": "python",
   "name": "python3"
  },
  "language_info": {
   "codemirror_mode": {
    "name": "ipython",
    "version": 3
   },
   "file_extension": ".py",
   "mimetype": "text/x-python",
   "name": "python",
   "nbconvert_exporter": "python",
   "pygments_lexer": "ipython3",
   "version": "3.11.3"
  }
 },
 "nbformat": 4,
 "nbformat_minor": 2
}
