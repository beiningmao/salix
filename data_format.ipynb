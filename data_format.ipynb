{
 "cells": [
  {
   "cell_type": "code",
   "execution_count": null,
   "metadata": {},
   "outputs": [],
   "source": [
    "import pandas as pd\n",
    "import re\n",
    "\n",
    "FILE = 'salix008_tab.txt'\n",
    "\n",
    "with open(FILE,'r') as f:\n",
    "    out = f.read()\n",
    "    out = re.sub(\"(  +)\", \",\", out)\n",
    "    out = re.sub(\"\\*\\*\\*\\*\\*\\*\\*\", \"\", out)\n",
    "    with open(f\"{FILE}_processed\",'w') as o:\n",
    "        o.write(out)\n",
    "\n",
    "salix_df = pd.read_csv(f\"{FILE}_processed\")\n",
    "wheatfen_df = pd.read_excel(\"/home/markhaoxiang/Projects/salix/Wheatfen_treecores.xlsx\")\n",
    "\n",
    "wheatfen_df_diameter = wheatfen_df[['ID', 'Diameter/cm']].dropna()\n",
    "wheatfen_df_diameter['ID'] = wheatfen_df_diameter['ID'].apply(lambda x : x.replace(\"?\",\"\"))"
   ]
  },
  {
   "cell_type": "code",
   "execution_count": null,
   "metadata": {},
   "outputs": [],
   "source": [
    "salix_df"
   ]
  },
  {
   "cell_type": "code",
   "execution_count": null,
   "metadata": {},
   "outputs": [],
   "source": [
    "for wfp in salix_df.columns[0:]:\n",
    "    d = wheatfen_df_diameter[(wheatfen_df_diameter['ID']==wfp[:-1])]['Diameter/cm'].values\n",
    "    # Data not available\n",
    "    if len(d) != 1:\n",
    "        continue\n",
    "    d = d[0]\n",
    "    results = [d]\n",
    "    for year in range(2022,1986,-1):\n",
    "        x = salix_df[(salix_df['year']==year)][wfp].values[0]\n",
    "        d = d - x*2/10\n",
    "        results.append(round(d,5))\n",
    "    results.reverse()\n",
    "    salix_df[f\"{wfp}_diameter\"] = pd.Series(results)\n",
    "    "
   ]
  },
  {
   "cell_type": "code",
   "execution_count": null,
   "metadata": {},
   "outputs": [],
   "source": [
    "salix_df"
   ]
  }
 ],
 "metadata": {
  "kernelspec": {
   "display_name": "Python 3",
   "language": "python",
   "name": "python3"
  },
  "language_info": {
   "codemirror_mode": {
    "name": "ipython",
    "version": 3
   },
   "file_extension": ".py",
   "mimetype": "text/x-python",
   "name": "python",
   "nbconvert_exporter": "python",
   "pygments_lexer": "ipython3",
   "version": "3.11.3"
  },
  "orig_nbformat": 4
 },
 "nbformat": 4,
 "nbformat_minor": 2
}
